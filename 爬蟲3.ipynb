{
 "cells": [
  {
   "cell_type": "code",
   "execution_count": 3,
   "metadata": {},
   "outputs": [
    {
     "name": "stdout",
     "output_type": "stream",
     "text": [
      "<title id=\"HtmlTitle\">宣告利率｜商品利率公告｜國泰人壽</title>\n"
     ]
    }
   ],
   "source": [
    "import requests\n",
    "from bs4 import BeautifulSoup\n",
    "\n",
    "re2 = requests.get(\"https://www.cathaylife.com.tw/cathaylife/services/info/rate-index/interest\")\n",
    "soup = BeautifulSoup(re2.text, \"html.parser\")\n",
    "print(soup.title)"
   ]
  },
  {
   "cell_type": "code",
   "execution_count": 10,
   "metadata": {},
   "outputs": [],
   "source": [
    "body = soup.tbody\n",
    "rlist = []\n",
    "for element in body.findAll(\"div\" , {\"role\":\"rates_result_holder\"}):\n",
    "    print(element)\n",
    "\n"
   ]
  },
  {
   "cell_type": "code",
   "execution_count": null,
   "metadata": {},
   "outputs": [],
   "source": [
    "for tr in element.find_all(\"tr\"):\n",
    "        td = tr.find(\"td\").text\n",
    "        \n",
    "        print(td)        \n",
    "        \n",
    "for each_row in table.findAll(\"tr\"):\n",
    "    td = each_row.findAll(\"td\")\n",
    "    year = td[0].text.strip()\n",
    "    dep = td[1].text.strip()\n",
    "    course = td[2].text.strip()\n",
    "    link = td[3].a[\"href\"].split(\"?file=\")[1].split(\"&\")[0]\n",
    "    print(year, dep, course)\n",
    "    print(link)"
   ]
  },
  {
   "cell_type": "code",
   "execution_count": null,
   "metadata": {},
   "outputs": [],
   "source": [
    "d = {}\n",
    "q = {}\n",
    "for element in soup.findAll(\"div\" , {\"class\":\"b-ent\"}):\n",
    "    board_name = element.find(\"div\" , {\"class\":\"board-name\"}).text\n",
    "    user_num = int(element.find(\"div\" , {\"class\":\"board-nuser\"}).text)\n",
    "    board_title = element.find(\"div\" , {\"class\":\"board-title\"}).text\n",
    "    d[board_name] = user_num\n",
    "    q[board_title] = user_num\n"
   ]
  }
 ],
 "metadata": {
  "kernelspec": {
   "display_name": "Python 3",
   "language": "python",
   "name": "python3"
  },
  "language_info": {
   "codemirror_mode": {
    "name": "ipython",
    "version": 3
   },
   "file_extension": ".py",
   "mimetype": "text/x-python",
   "name": "python",
   "nbconvert_exporter": "python",
   "pygments_lexer": "ipython3",
   "version": "3.8.5"
  }
 },
 "nbformat": 4,
 "nbformat_minor": 4
}
